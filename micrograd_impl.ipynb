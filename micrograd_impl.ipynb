{
  "nbformat": 4,
  "nbformat_minor": 0,
  "metadata": {
    "colab": {
      "provenance": [],
      "authorship_tag": "ABX9TyN+9NiQLeJsCbjfUyTzTp/P",
      "include_colab_link": true
    },
    "kernelspec": {
      "name": "python3",
      "display_name": "Python 3"
    },
    "language_info": {
      "name": "python"
    }
  },
  "cells": [
    {
      "cell_type": "markdown",
      "metadata": {
        "id": "view-in-github",
        "colab_type": "text"
      },
      "source": [
        "<a href=\"https://colab.research.google.com/github/rtravancic/DL_micrograd/blob/main/micrograd_impl.ipynb\" target=\"_parent\"><img src=\"https://colab.research.google.com/assets/colab-badge.svg\" alt=\"Open In Colab\"/></a>"
      ]
    },
    {
      "cell_type": "markdown",
      "source": [
        "\n",
        "# **Micrograd Notebook**\n",
        " Notebook is built using Andrej Karpathy tutorial - https://www.youtube.com/watch?v=VMj-3S1tku0\n",
        "\n",
        "<br><br>\n",
        "\n",
        "##**Introduction**\n",
        "\n",
        "**Micrograd** = tiny Autograd(Automatic gradient) => implements backpropagation <br>\n",
        "\n",
        "**Backpropagation** = algorithm that helps to efficiently evaluate the gradient of loss function with respect to weights of neural network, gives us ability to iterativly tune weights of neural network to minimze loss the loss function<br>\n",
        "\n",
        "\n"
      ],
      "metadata": {
        "id": "T65g41qdb39B"
      }
    },
    {
      "cell_type": "markdown",
      "source": [
        "## Imports"
      ],
      "metadata": {
        "id": "Jxpb8H_KjFMI"
      }
    },
    {
      "cell_type": "code",
      "execution_count": null,
      "metadata": {
        "id": "CIIl22Bzbnvu"
      },
      "outputs": [],
      "source": [
        "import math\n",
        "import numpy as np\n",
        "import matplotlib.pyplot as plt\n",
        "\n",
        "# display plots below code cell not in seperate window or output cell\n",
        "%matplotlib inline"
      ]
    },
    {
      "cell_type": "markdown",
      "source": [
        "## Derivation intro\n"
      ],
      "metadata": {
        "id": "Q0v18yQji9zf"
      }
    },
    {
      "cell_type": "code",
      "source": [
        "# Derivations intro\n",
        "def f(x):\n",
        "  return 3*x**2 - 4*x + 5"
      ],
      "metadata": {
        "id": "E2DoPJguijRT"
      },
      "execution_count": null,
      "outputs": []
    },
    {
      "cell_type": "code",
      "source": [
        "f(3.0)"
      ],
      "metadata": {
        "colab": {
          "base_uri": "https://localhost:8080/"
        },
        "id": "A2tFttspi1Fw",
        "outputId": "14efd4a2-fcea-485c-e41b-ef84ee9f2aef"
      },
      "execution_count": null,
      "outputs": [
        {
          "output_type": "execute_result",
          "data": {
            "text/plain": [
              "20.0"
            ]
          },
          "metadata": {},
          "execution_count": 108
        }
      ]
    },
    {
      "cell_type": "code",
      "source": [
        "xs = np.arange(-5, 5, 0.25)\n",
        "ys = f(xs)\n",
        "\n",
        "plt.plot(xs, ys)"
      ],
      "metadata": {
        "colab": {
          "base_uri": "https://localhost:8080/",
          "height": 447
        },
        "id": "Dx0kx7ydjQ-3",
        "outputId": "71af8365-6d94-4069-ef6c-8068a4aba1e6"
      },
      "execution_count": null,
      "outputs": [
        {
          "output_type": "execute_result",
          "data": {
            "text/plain": [
              "[<matplotlib.lines.Line2D at 0x7fbd73ae3010>]"
            ]
          },
          "metadata": {},
          "execution_count": 109
        },
        {
          "output_type": "display_data",
          "data": {
            "text/plain": [
              "<Figure size 640x480 with 1 Axes>"
            ],
            "image/png": "[encoded data removed]"
          },
          "metadata": {}
        }
      ]
    },
    {
      "cell_type": "markdown",
      "source": [
        "**What is definition of derivative?**\n",
        "\n",
        "Function is differentiable at point $x = a$ if following limit exists:<br><br>\n",
        "\n",
        "$$ f'(a) = \\lim_{h \\to 0} \\frac{f(a + h) - f(a)}{h} $$\n",
        "\n",
        "Two main conditions - continuity and smoothness\n",
        "\n",
        "**Continuity** means that function needs to be continuous at that point - no breaks, holes, jumps..<br>\n",
        "**Smoothness** means function must have a unique tangent line at that point - no sharp corners or cusps\n",
        "\n",
        "\n",
        "<br>\n",
        "This means we can take extremly small value for $h$ such that ${h \\to 0}$ and calculate approximation of slope at specific point\n",
        "\n"
      ],
      "metadata": {
        "id": "hqOg8zVujyu8"
      }
    },
    {
      "cell_type": "code",
      "source": [
        "# Let's try one small h\n",
        "h = 0.0001\n",
        "x = 3.0\n",
        "\n",
        "# For x = 3.0 and small positive h we expect f(x+h) to be increased by small value - rate of increase is derivation at point x = 3.0\n",
        "f(x + h)\n",
        "\n",
        "# Exact value of that can be calculated using above formula\n",
        "point_derivation = (f(x + h) - f(x))/h\n",
        "\n",
        "print(\"Approximation of point derivation is: \", point_derivation)"
      ],
      "metadata": {
        "colab": {
          "base_uri": "https://localhost:8080/"
        },
        "id": "SCa1IjLWjZxS",
        "outputId": "356010a6-b49a-40cc-8739-fd049a420558"
      },
      "execution_count": null,
      "outputs": [
        {
          "output_type": "stream",
          "name": "stdout",
          "text": [
            "Approximation of point derivation is:  14.000300000063248\n"
          ]
        }
      ]
    },
    {
      "cell_type": "markdown",
      "source": [],
      "metadata": {
        "id": "2Q4iiAAyb2Rt"
      }
    },
    {
      "cell_type": "code",
      "source": [
        "# Let's try a bit more complex example\n",
        "a = 2.0\n",
        "b = -3.0\n",
        "c = 10.0\n",
        "d = a*b + c\n",
        "\n",
        "print(d)"
      ],
      "metadata": {
        "colab": {
          "base_uri": "https://localhost:8080/"
        },
        "id": "lLe8XFqMmu13",
        "outputId": "a4002d86-e19c-4558-d158-adcc28a16215"
      },
      "execution_count": null,
      "outputs": [
        {
          "output_type": "stream",
          "name": "stdout",
          "text": [
            "4.0\n"
          ]
        }
      ]
    },
    {
      "cell_type": "code",
      "source": [
        "# Now let's get derivitive in respect to a -> similar for b and c -> for c slope is 1\n",
        "h = 0.0001\n",
        "\n",
        "# inputs\n",
        "a = 2.0\n",
        "b = -3.0\n",
        "c = 10.0\n",
        "\n",
        "d = a*b + c\n",
        "\n",
        "# check for a\n",
        "a += h\n",
        "da = a*b + c\n",
        "\n",
        "print(f\"d\\t{d}\\nda\\t{da}\\nslope\\t{(da-d)/h}\")\n"
      ],
      "metadata": {
        "colab": {
          "base_uri": "https://localhost:8080/"
        },
        "id": "9GWFhr4XontS",
        "outputId": "e550d0bd-c0eb-4344-ff43-3513ae4a7e88"
      },
      "execution_count": null,
      "outputs": [
        {
          "output_type": "stream",
          "name": "stdout",
          "text": [
            "d\t4.0\n",
            "da\t3.999699999999999\n",
            "slope\t-3.000000000010772\n"
          ]
        }
      ]
    },
    {
      "cell_type": "markdown",
      "source": [
        "# Neural network implementation\n",
        "\n",
        "\n",
        "\n",
        "To note... <br>\n",
        "In Python, the __repr__ method is a special method that defines how an object should be represented as a string.\n",
        "When you call repr(object) or simply type the object's name in an interactive interpreter, the $__repr__$ method is invoked to provide a string representation\n"
      ],
      "metadata": {
        "id": "yd76uc-Ksjno"
      }
    },
    {
      "cell_type": "code",
      "source": [
        "# Let's start with Value object\n",
        "\n",
        "class Value:\n",
        "\n",
        "  def __init__(self, data, _parents=(), _op='', label=''):\n",
        "    self.data = data\n",
        "    self.grad = 0.0\n",
        "    self._backward = lambda: None\n",
        "    self._prev = set(_parents) # stores Objects that it originates from\n",
        "    self._op = _op # stores operation that created this node\n",
        "    self.label = label # stores label for node\n",
        "\n",
        "  # Used to provide desired string representation -> ideally string that can be used to recreate the object!\n",
        "  def __repr__(self):\n",
        "    return f\"Value(data={self.data})\"\n",
        "\n",
        "  # Defines how should python use + operator whit objects of this class\n",
        "  def __add__(self, other):\n",
        "    other = other if isinstance(other, Value) else Value(other)\n",
        "    out = Value(self.data + other.data, (self, other), '+')\n",
        "    def _backward():\n",
        "      self.grad += 1.0 * out.grad\n",
        "      other.grad += 1.0 * out.grad\n",
        "    out._backward = _backward\n",
        "\n",
        "    return out\n",
        "\n",
        "  def __radd__(self, other): # other + self\n",
        "    return self.__add__(other)\n",
        "\n",
        "  # Defines how should python use * operator whit objects of this class\n",
        "  def __mul__(self, other):\n",
        "    other = other if isinstance(other, Value) else Value(other)\n",
        "    out = Value(self.data * other.data, (self, other), '*')\n",
        "    def _backward():\n",
        "      self.grad += other.data * out.grad\n",
        "      other.grad += self.data * out.grad\n",
        "    out._backward = _backward\n",
        "    return out\n",
        "\n",
        "  # 2 * Value(5) in py -> 2.__mul__(a) which throws error so _rmul is defined to handle that, py checks _rmul for instructions if it exists\n",
        "  def __rmul__(self, other): # other * self\n",
        "    return self.__mul__(other)\n",
        "\n",
        "  def __neg__(self):\n",
        "    return self * -1\n",
        "\n",
        "  def __sub__(self, other):\n",
        "    return self + (-other)\n",
        "\n",
        "  def __rsub__(self, other):\n",
        "    return other + (-self)\n",
        "\n",
        "  def __pow__(self, other):\n",
        "    assert isinstance(other, (int, float)), \"only supporting int/float powers for now\"\n",
        "    out = Value(self.data**other, (self,), f'**{other}')\n",
        "\n",
        "    def _backward():\n",
        "      self.grad += other * (self.data ** (other - 1)) * out.grad\n",
        "    out._backward = _backward\n",
        "    return out\n",
        "\n",
        "  def __truediv__(self, other): # self / other\n",
        "    return self.__mul__(other**-1)\n",
        "\n",
        "  def exp(self):\n",
        "    x = self.data\n",
        "    out = Value(math.exp(x), (self, ), 'exp')\n",
        "\n",
        "    def _backward():\n",
        "      self.grad += out.data * out.grad\n",
        "\n",
        "    out._backward = _backward\n",
        "    return out\n",
        "\n",
        "  def tanh(self):\n",
        "    x = self.data\n",
        "    t = (math.exp(2*x) - 1)/(math.exp(2*x) + 1)\n",
        "    out = Value(t, (self, ), 'tanh')\n",
        "\n",
        "    def _backward():\n",
        "      self.grad += (1 - t**2) * out.grad\n",
        "    out._backward = _backward\n",
        "\n",
        "    return out\n",
        "\n",
        "\n",
        "  def backward(self):\n",
        "    # Topological sort\n",
        "    topo = []\n",
        "    visited = set()\n",
        "\n",
        "    def build_topo(v):\n",
        "      if v not in visited:\n",
        "        visited.add(v)\n",
        "        for child in v._prev:\n",
        "          build_topo(child)\n",
        "        topo.append(v)\n",
        "\n",
        "\n",
        "    build_topo(self)\n",
        "\n",
        "\n",
        "    self.grad = 1.0\n",
        "    for node in reversed(topo):\n",
        "      node._backward()\n"
      ],
      "metadata": {
        "id": "ZfPN6tcfsick"
      },
      "execution_count": null,
      "outputs": []
    },
    {
      "cell_type": "code",
      "source": [
        "# Visualization of graphs\n",
        "from graphviz import Digraph\n",
        "\n",
        "def trace(root):\n",
        "  # builds a set of all nodes and edges in a graph\n",
        "  nodes, edges = set(), set()\n",
        "\n",
        "  def build(v):\n",
        "    if v not in nodes:\n",
        "      nodes.add(v)\n",
        "      for parent in v._prev:\n",
        "        edges.add((parent, v))\n",
        "        build(parent)\n",
        "\n",
        "  build(root)\n",
        "  return nodes, edges\n",
        "\n",
        "def draw_dot(root):\n",
        "  dot = Digraph(format='svg', graph_attr={'rankdir': 'LR', 'bgcolor': 'green'}) # TB -> top to bottom, also LR, RL, BT possible\n",
        "\n",
        "  nodes, edges = trace(root)\n",
        "  for n in nodes:\n",
        "    uid = str(id(n)) # returns a unique id for the specified object (object's memory address)\n",
        "\n",
        "    # for any value in graph, create rectengular ('record') node\n",
        "    dot.node(name=uid, label= f\"{{ {n.label} | value: {n.data:.4f} | grad: {n.grad:.4f} }}\", shape='record')\n",
        "\n",
        "    if n._op: # if this object is result of operation, create op node of it\n",
        "      dot.node(name=uid + n._op, label = n._op)\n",
        "      dot.edge(uid + n._op, uid)\n",
        "\n",
        "\n",
        "  for n1, n2 in edges:\n",
        "    # connect n1 to the op node of n2\n",
        "    dot.edge(str(id(n1)), str(id(n2)) + n2._op)\n",
        "\n",
        "  return dot\n",
        "\n"
      ],
      "metadata": {
        "id": "2SdAU_wttzyn"
      },
      "execution_count": null,
      "outputs": []
    },
    {
      "cell_type": "markdown",
      "source": [
        "To note... <br><br>\n",
        "The id() function returns a unique id for the specified object.\n",
        "All objects in Python have its own unique id.\n",
        "The id is assigned to the object when it is created.\n",
        "The id is the object's memory address, and will be different for each time you run the program. (except for some object that has a constant unique id, like integers from -5 to 256)"
      ],
      "metadata": {
        "id": "pP6VO3J81Kav"
      }
    },
    {
      "cell_type": "markdown",
      "source": [
        "# Chain rule\n",
        "\n",
        "$dz/dx = dz/dy * dy/dx$"
      ],
      "metadata": {
        "id": "lJcYW5ef_kOM"
      }
    },
    {
      "cell_type": "code",
      "source": [
        "plt.plot(np.arange(-5, 5, 0.2), np.tanh(np.arange(-5, 5, 0.2))); plt.grid()"
      ],
      "metadata": {
        "colab": {
          "base_uri": "https://localhost:8080/",
          "height": 430
        },
        "id": "XC_UxEXAEB-W",
        "outputId": "33de84a0-d1d4-4c9a-8ba0-c04a521ac492"
      },
      "execution_count": null,
      "outputs": [
        {
          "output_type": "display_data",
          "data": {
            "text/plain": [
              "<Figure size 640x480 with 1 Axes>"
            ],
            "image/png": "[encoded data removed]"
          },
          "metadata": {}
        }
      ]
    },
    {
      "cell_type": "code",
      "source": [
        "# inputs x1, x2\n",
        "x1 = Value(2.0, label='x1')\n",
        "x2 = Value(0.0, label='x2')\n",
        "\n",
        "# weights w1, w1\n",
        "w1 = Value(-3.0, label='w1')\n",
        "w2 = Value(1.0, label='w2')\n",
        "\n",
        "# bias of the neuron\n",
        "b = Value(6.8814, label='b')\n",
        "\n",
        "# x1*w1 + x2*w2 + b\n",
        "x1w1 = x1*w1; x1w1.label = 'x1*w1'\n",
        "x2w2 = x2*w2; x2w2.label = 'x2*w2'\n",
        "\n",
        "x1w1x2w2 = x1w1 + x2w2; x1w1x2w2.label = 'x1*w1 + x2*w2'\n",
        "n = x1w1x2w2 + b; n.label = 'n'\n",
        "\n",
        "\n",
        "e = (2*n).exp()\n",
        "o = (e - 1)/(e + 1); o.label = 'o'\n",
        "\n",
        "\n",
        "\n",
        "\n"
      ],
      "metadata": {
        "id": "cmSR5SvsFFi-"
      },
      "execution_count": null,
      "outputs": []
    },
    {
      "cell_type": "code",
      "source": [
        "o.backward()\n"
      ],
      "metadata": {
        "id": "N2YlYBpfKVuD"
      },
      "execution_count": null,
      "outputs": []
    },
    {
      "cell_type": "code",
      "source": [],
      "metadata": {
        "id": "d0G4x8pCHLFR"
      },
      "execution_count": null,
      "outputs": []
    },
    {
      "cell_type": "code",
      "source": [
        "draw_dot(o)"
      ],
      "metadata": {
        "colab": {
          "base_uri": "https://localhost:8080/",
          "height": 356
        },
        "id": "ZEdf9jHOHJ2r",
        "outputId": "94ddfdf4-599a-4256-f2ba-3efe8b9326e1"
      },
      "execution_count": null,
      "outputs": [
        {
          "output_type": "execute_result",
          "data": {
            "image/svg+xml": "<?xml version=\"1.0\" encoding=\"UTF-8\" standalone=\"no\"?>\n<!DOCTYPE svg PUBLIC \"-//W3C//DTD SVG 1.1//EN\"\n \"http://www.w3.org/Graphics/SVG/1.1/DTD/svg11.dtd\">\n<!-- Generated by graphviz version 2.43.0 (0)\n -->\n<!-- Title: %3 Pages: 1 -->\n<svg width=\"3090pt\" height=\"236pt\"\n viewBox=\"0.00 0.00 3090.00 236.00\" xmlns=\"http://www.w3.org/2000/svg\" xmlns:xlink=\"http://www.w3.org/1999/xlink\">\n<g id=\"graph0\" class=\"graph\" transform=\"scale(1 1) rotate(0) translate(4 232)\">\n<title>%3</title>\n<polygon fill=\"green\" stroke=\"transparent\" points=\"-4,4 -4,-232 3086,-232 3086,4 -4,4\"/>\n<!-- 140451665963008 -->\n<g id=\"node1\" class=\"node\">\n<title>140451665963008</title>\n<polygon fill=\"none\" stroke=\"black\" points=\"2882,-135.5 2882,-171.5 3082,-171.5 3082,-135.5 2882,-135.5\"/>\n<text text-anchor=\"middle\" x=\"2893.5\" y=\"-149.8\" font-family=\"Times,serif\" font-size=\"14.00\">o</text>\n<polyline fill=\"none\" stroke=\"black\" points=\"2905,-135.5 2905,-171.5 \"/>\n<text text-anchor=\"middle\" x=\"2950.5\" y=\"-149.8\" font-family=\"Times,serif\" font-size=\"14.00\">value: 0.7071</text>\n<polyline fill=\"none\" stroke=\"black\" points=\"2996,-135.5 2996,-171.5 \"/>\n<text text-anchor=\"middle\" x=\"3039\" y=\"-149.8\" font-family=\"Times,serif\" font-size=\"14.00\">grad: 1.0000</text>\n</g>\n<!-- 140451665963008* -->\n<g id=\"node2\" class=\"node\">\n<title>140451665963008*</title>\n<ellipse fill=\"none\" stroke=\"black\" cx=\"2819\" cy=\"-153.5\" rx=\"27\" ry=\"18\"/>\n<text text-anchor=\"middle\" x=\"2819\" y=\"-149.8\" font-family=\"Times,serif\" font-size=\"14.00\">*</text>\n</g>\n<!-- 140451665963008*&#45;&gt;140451665963008 -->\n<g id=\"edge1\" class=\"edge\">\n<title>140451665963008*&#45;&gt;140451665963008</title>\n<path fill=\"none\" stroke=\"black\" d=\"M2846.23,-153.5C2853.69,-153.5 2862.31,-153.5 2871.52,-153.5\"/>\n<polygon fill=\"black\" stroke=\"black\" points=\"2871.71,-157 2881.71,-153.5 2871.71,-150 2871.71,-157\"/>\n</g>\n<!-- 140451668455968 -->\n<g id=\"node3\" class=\"node\">\n<title>140451668455968</title>\n<polygon fill=\"none\" stroke=\"black\" points=\"1114.5,-164.5 1114.5,-200.5 1311.5,-200.5 1311.5,-164.5 1114.5,-164.5\"/>\n<text text-anchor=\"middle\" x=\"1124.5\" y=\"-178.8\" font-family=\"Times,serif\" font-size=\"14.00\"> </text>\n<polyline fill=\"none\" stroke=\"black\" points=\"1134.5,-164.5 1134.5,-200.5 \"/>\n<text text-anchor=\"middle\" x=\"1180\" y=\"-178.8\" font-family=\"Times,serif\" font-size=\"14.00\">value: 2.0000</text>\n<polyline fill=\"none\" stroke=\"black\" points=\"1225.5,-164.5 1225.5,-200.5 \"/>\n<text text-anchor=\"middle\" x=\"1268.5\" y=\"-178.8\" font-family=\"Times,serif\" font-size=\"14.00\">grad: 0.2203</text>\n</g>\n<!-- 140451668453952* -->\n<g id=\"node8\" class=\"node\">\n<title>140451668453952*</title>\n<ellipse fill=\"none\" stroke=\"black\" cx=\"1376\" cy=\"-154.5\" rx=\"27\" ry=\"18\"/>\n<text text-anchor=\"middle\" x=\"1376\" y=\"-150.8\" font-family=\"Times,serif\" font-size=\"14.00\">*</text>\n</g>\n<!-- 140451668455968&#45;&gt;140451668453952* -->\n<g id=\"edge21\" class=\"edge\">\n<title>140451668455968&#45;&gt;140451668453952*</title>\n<path fill=\"none\" stroke=\"black\" d=\"M1311.83,-165.49C1321.75,-163.76 1331.31,-162.1 1339.85,-160.61\"/>\n<polygon fill=\"black\" stroke=\"black\" points=\"1340.48,-164.06 1349.73,-158.89 1339.28,-157.16 1340.48,-164.06\"/>\n</g>\n<!-- 140451660377648 -->\n<g id=\"node4\" class=\"node\">\n<title>140451660377648</title>\n<polygon fill=\"none\" stroke=\"black\" points=\"1762,-191.5 1762,-227.5 1963,-227.5 1963,-191.5 1762,-191.5\"/>\n<text text-anchor=\"middle\" x=\"1772\" y=\"-205.8\" font-family=\"Times,serif\" font-size=\"14.00\"> </text>\n<polyline fill=\"none\" stroke=\"black\" points=\"1782,-191.5 1782,-227.5 \"/>\n<text text-anchor=\"middle\" x=\"1829.5\" y=\"-205.8\" font-family=\"Times,serif\" font-size=\"14.00\">value: &#45;1.0000</text>\n<polyline fill=\"none\" stroke=\"black\" points=\"1877,-191.5 1877,-227.5 \"/>\n<text text-anchor=\"middle\" x=\"1920\" y=\"-205.8\" font-family=\"Times,serif\" font-size=\"14.00\">grad: 0.1464</text>\n</g>\n<!-- 140451660376640+ -->\n<g id=\"node6\" class=\"node\">\n<title>140451660376640+</title>\n<ellipse fill=\"none\" stroke=\"black\" cx=\"2026\" cy=\"-181.5\" rx=\"27\" ry=\"18\"/>\n<text text-anchor=\"middle\" x=\"2026\" y=\"-177.8\" font-family=\"Times,serif\" font-size=\"14.00\">+</text>\n</g>\n<!-- 140451660377648&#45;&gt;140451660376640+ -->\n<g id=\"edge20\" class=\"edge\">\n<title>140451660377648&#45;&gt;140451660376640+</title>\n<path fill=\"none\" stroke=\"black\" d=\"M1963.02,-192.25C1972.41,-190.62 1981.44,-189.05 1989.56,-187.64\"/>\n<polygon fill=\"black\" stroke=\"black\" points=\"1990.42,-191.05 1999.68,-185.89 1989.23,-184.15 1990.42,-191.05\"/>\n</g>\n<!-- 140451660376640 -->\n<g id=\"node5\" class=\"node\">\n<title>140451660376640</title>\n<polygon fill=\"none\" stroke=\"black\" points=\"2326,-163.5 2326,-199.5 2523,-199.5 2523,-163.5 2326,-163.5\"/>\n<text text-anchor=\"middle\" x=\"2336\" y=\"-177.8\" font-family=\"Times,serif\" font-size=\"14.00\"> </text>\n<polyline fill=\"none\" stroke=\"black\" points=\"2346,-163.5 2346,-199.5 \"/>\n<text text-anchor=\"middle\" x=\"2391.5\" y=\"-177.8\" font-family=\"Times,serif\" font-size=\"14.00\">value: 4.8287</text>\n<polyline fill=\"none\" stroke=\"black\" points=\"2437,-163.5 2437,-199.5 \"/>\n<text text-anchor=\"middle\" x=\"2480\" y=\"-177.8\" font-family=\"Times,serif\" font-size=\"14.00\">grad: 0.1464</text>\n</g>\n<!-- 140451660376640&#45;&gt;140451665963008* -->\n<g id=\"edge12\" class=\"edge\">\n<title>140451660376640&#45;&gt;140451665963008*</title>\n<path fill=\"none\" stroke=\"black\" d=\"M2523.14,-174.99C2588.95,-170.53 2677.71,-164.38 2756,-158.5 2764.42,-157.87 2773.48,-157.15 2782.01,-156.47\"/>\n<polygon fill=\"black\" stroke=\"black\" points=\"2782.38,-159.95 2792.06,-155.66 2781.81,-152.97 2782.38,-159.95\"/>\n</g>\n<!-- 140451660376640+&#45;&gt;140451660376640 -->\n<g id=\"edge2\" class=\"edge\">\n<title>140451660376640+&#45;&gt;140451660376640</title>\n<path fill=\"none\" stroke=\"black\" d=\"M2053.02,-181.5C2105.35,-181.5 2226.02,-181.5 2315.49,-181.5\"/>\n<polygon fill=\"black\" stroke=\"black\" points=\"2315.7,-185 2325.7,-181.5 2315.7,-178 2315.7,-185\"/>\n</g>\n<!-- 140451668453952 -->\n<g id=\"node7\" class=\"node\">\n<title>140451668453952</title>\n<polygon fill=\"none\" stroke=\"black\" points=\"1439,-136.5 1439,-172.5 1636,-172.5 1636,-136.5 1439,-136.5\"/>\n<text text-anchor=\"middle\" x=\"1449\" y=\"-150.8\" font-family=\"Times,serif\" font-size=\"14.00\"> </text>\n<polyline fill=\"none\" stroke=\"black\" points=\"1459,-136.5 1459,-172.5 \"/>\n<text text-anchor=\"middle\" x=\"1504.5\" y=\"-150.8\" font-family=\"Times,serif\" font-size=\"14.00\">value: 1.7628</text>\n<polyline fill=\"none\" stroke=\"black\" points=\"1550,-136.5 1550,-172.5 \"/>\n<text text-anchor=\"middle\" x=\"1593\" y=\"-150.8\" font-family=\"Times,serif\" font-size=\"14.00\">grad: 0.2500</text>\n</g>\n<!-- 140451662011200exp -->\n<g id=\"node21\" class=\"node\">\n<title>140451662011200exp</title>\n<ellipse fill=\"none\" stroke=\"black\" cx=\"1699\" cy=\"-154.5\" rx=\"27\" ry=\"18\"/>\n<text text-anchor=\"middle\" x=\"1699\" y=\"-150.8\" font-family=\"Times,serif\" font-size=\"14.00\">exp</text>\n</g>\n<!-- 140451668453952&#45;&gt;140451662011200exp -->\n<g id=\"edge23\" class=\"edge\">\n<title>140451668453952&#45;&gt;140451662011200exp</title>\n<path fill=\"none\" stroke=\"black\" d=\"M1636.33,-154.5C1645.29,-154.5 1653.92,-154.5 1661.75,-154.5\"/>\n<polygon fill=\"black\" stroke=\"black\" points=\"1661.88,-158 1671.88,-154.5 1661.88,-151 1661.88,-158\"/>\n</g>\n<!-- 140451668453952*&#45;&gt;140451668453952 -->\n<g id=\"edge3\" class=\"edge\">\n<title>140451668453952*&#45;&gt;140451668453952</title>\n<path fill=\"none\" stroke=\"black\" d=\"M1403.34,-154.5C1410.81,-154.5 1419.44,-154.5 1428.64,-154.5\"/>\n<polygon fill=\"black\" stroke=\"black\" points=\"1428.83,-158 1438.83,-154.5 1428.83,-151 1428.83,-158\"/>\n</g>\n<!-- 140451668450880 -->\n<g id=\"node9\" class=\"node\">\n<title>140451668450880</title>\n<polygon fill=\"none\" stroke=\"black\" points=\"0,-55.5 0,-91.5 214,-91.5 214,-55.5 0,-55.5\"/>\n<text text-anchor=\"middle\" x=\"16.5\" y=\"-69.8\" font-family=\"Times,serif\" font-size=\"14.00\">w1</text>\n<polyline fill=\"none\" stroke=\"black\" points=\"33,-55.5 33,-91.5 \"/>\n<text text-anchor=\"middle\" x=\"80.5\" y=\"-69.8\" font-family=\"Times,serif\" font-size=\"14.00\">value: &#45;3.0000</text>\n<polyline fill=\"none\" stroke=\"black\" points=\"128,-55.5 128,-91.5 \"/>\n<text text-anchor=\"middle\" x=\"171\" y=\"-69.8\" font-family=\"Times,serif\" font-size=\"14.00\">grad: 1.0000</text>\n</g>\n<!-- 140451668459424* -->\n<g id=\"node26\" class=\"node\">\n<title>140451668459424*</title>\n<ellipse fill=\"none\" stroke=\"black\" cx=\"277\" cy=\"-73.5\" rx=\"27\" ry=\"18\"/>\n<text text-anchor=\"middle\" x=\"277\" y=\"-69.8\" font-family=\"Times,serif\" font-size=\"14.00\">*</text>\n</g>\n<!-- 140451668450880&#45;&gt;140451668459424* -->\n<g id=\"edge14\" class=\"edge\">\n<title>140451668450880&#45;&gt;140451668459424*</title>\n<path fill=\"none\" stroke=\"black\" d=\"M214.4,-73.5C223.35,-73.5 231.94,-73.5 239.71,-73.5\"/>\n<polygon fill=\"black\" stroke=\"black\" points=\"239.76,-77 249.76,-73.5 239.76,-70 239.76,-77\"/>\n</g>\n<!-- 140451668450928 -->\n<g id=\"node10\" class=\"node\">\n<title>140451668450928</title>\n<polygon fill=\"none\" stroke=\"black\" points=\"342,-110.5 342,-146.5 572,-146.5 572,-110.5 342,-110.5\"/>\n<text text-anchor=\"middle\" x=\"368.5\" y=\"-124.8\" font-family=\"Times,serif\" font-size=\"14.00\">x2*w2</text>\n<polyline fill=\"none\" stroke=\"black\" points=\"395,-110.5 395,-146.5 \"/>\n<text text-anchor=\"middle\" x=\"440.5\" y=\"-124.8\" font-family=\"Times,serif\" font-size=\"14.00\">value: 0.0000</text>\n<polyline fill=\"none\" stroke=\"black\" points=\"486,-110.5 486,-146.5 \"/>\n<text text-anchor=\"middle\" x=\"529\" y=\"-124.8\" font-family=\"Times,serif\" font-size=\"14.00\">grad: 0.5000</text>\n</g>\n<!-- 140451668458752+ -->\n<g id=\"node19\" class=\"node\">\n<title>140451668458752+</title>\n<ellipse fill=\"none\" stroke=\"black\" cx=\"637\" cy=\"-100.5\" rx=\"27\" ry=\"18\"/>\n<text text-anchor=\"middle\" x=\"637\" y=\"-96.8\" font-family=\"Times,serif\" font-size=\"14.00\">+</text>\n</g>\n<!-- 140451668450928&#45;&gt;140451668458752+ -->\n<g id=\"edge16\" class=\"edge\">\n<title>140451668450928&#45;&gt;140451668458752+</title>\n<path fill=\"none\" stroke=\"black\" d=\"M572.24,-110.53C582.35,-108.94 591.98,-107.42 600.56,-106.07\"/>\n<polygon fill=\"black\" stroke=\"black\" points=\"601.13,-109.53 610.46,-104.52 600.04,-102.61 601.13,-109.53\"/>\n</g>\n<!-- 140451668450928* -->\n<g id=\"node11\" class=\"node\">\n<title>140451668450928*</title>\n<ellipse fill=\"none\" stroke=\"black\" cx=\"277\" cy=\"-128.5\" rx=\"27\" ry=\"18\"/>\n<text text-anchor=\"middle\" x=\"277\" y=\"-124.8\" font-family=\"Times,serif\" font-size=\"14.00\">*</text>\n</g>\n<!-- 140451668450928*&#45;&gt;140451668450928 -->\n<g id=\"edge4\" class=\"edge\">\n<title>140451668450928*&#45;&gt;140451668450928</title>\n<path fill=\"none\" stroke=\"black\" d=\"M304.26,-128.5C312.24,-128.5 321.59,-128.5 331.66,-128.5\"/>\n<polygon fill=\"black\" stroke=\"black\" points=\"331.94,-132 341.94,-128.5 331.94,-125 331.94,-132\"/>\n</g>\n<!-- 140451668451888 -->\n<g id=\"node12\" class=\"node\">\n<title>140451668451888</title>\n<polygon fill=\"none\" stroke=\"black\" points=\"743.5,-137.5 743.5,-173.5 943.5,-173.5 943.5,-137.5 743.5,-137.5\"/>\n<text text-anchor=\"middle\" x=\"755\" y=\"-151.8\" font-family=\"Times,serif\" font-size=\"14.00\">b</text>\n<polyline fill=\"none\" stroke=\"black\" points=\"766.5,-137.5 766.5,-173.5 \"/>\n<text text-anchor=\"middle\" x=\"812\" y=\"-151.8\" font-family=\"Times,serif\" font-size=\"14.00\">value: 6.8814</text>\n<polyline fill=\"none\" stroke=\"black\" points=\"857.5,-137.5 857.5,-173.5 \"/>\n<text text-anchor=\"middle\" x=\"900.5\" y=\"-151.8\" font-family=\"Times,serif\" font-size=\"14.00\">grad: 0.5000</text>\n</g>\n<!-- 140451668448144+ -->\n<g id=\"node24\" class=\"node\">\n<title>140451668448144+</title>\n<ellipse fill=\"none\" stroke=\"black\" cx=\"1050\" cy=\"-127.5\" rx=\"27\" ry=\"18\"/>\n<text text-anchor=\"middle\" x=\"1050\" y=\"-123.8\" font-family=\"Times,serif\" font-size=\"14.00\">+</text>\n</g>\n<!-- 140451668451888&#45;&gt;140451668448144+ -->\n<g id=\"edge17\" class=\"edge\">\n<title>140451668451888&#45;&gt;140451668448144+</title>\n<path fill=\"none\" stroke=\"black\" d=\"M943.75,-141.91C968.77,-138.48 994.03,-135.03 1013.52,-132.36\"/>\n<polygon fill=\"black\" stroke=\"black\" points=\"1014.01,-135.82 1023.44,-131 1013.06,-128.89 1014.01,-135.82\"/>\n</g>\n<!-- 140451660372080 -->\n<g id=\"node13\" class=\"node\">\n<title>140451660372080</title>\n<polygon fill=\"none\" stroke=\"black\" points=\"1762,-81.5 1762,-117.5 1963,-117.5 1963,-81.5 1762,-81.5\"/>\n<text text-anchor=\"middle\" x=\"1772\" y=\"-95.8\" font-family=\"Times,serif\" font-size=\"14.00\"> </text>\n<polyline fill=\"none\" stroke=\"black\" points=\"1782,-81.5 1782,-117.5 \"/>\n<text text-anchor=\"middle\" x=\"1827.5\" y=\"-95.8\" font-family=\"Times,serif\" font-size=\"14.00\">value: 1.0000</text>\n<polyline fill=\"none\" stroke=\"black\" points=\"1873,-81.5 1873,-117.5 \"/>\n<text text-anchor=\"middle\" x=\"1918\" y=\"-95.8\" font-family=\"Times,serif\" font-size=\"14.00\">grad: &#45;0.1036</text>\n</g>\n<!-- 140451660375536+ -->\n<g id=\"node17\" class=\"node\">\n<title>140451660375536+</title>\n<ellipse fill=\"none\" stroke=\"black\" cx=\"2026\" cy=\"-126.5\" rx=\"27\" ry=\"18\"/>\n<text text-anchor=\"middle\" x=\"2026\" y=\"-122.8\" font-family=\"Times,serif\" font-size=\"14.00\">+</text>\n</g>\n<!-- 140451660372080&#45;&gt;140451660375536+ -->\n<g id=\"edge27\" class=\"edge\">\n<title>140451660372080&#45;&gt;140451660375536+</title>\n<path fill=\"none\" stroke=\"black\" d=\"M1963.02,-116.14C1972.41,-117.71 1981.44,-119.22 1989.56,-120.58\"/>\n<polygon fill=\"black\" stroke=\"black\" points=\"1989.24,-124.07 1999.68,-122.27 1990.39,-117.17 1989.24,-124.07\"/>\n</g>\n<!-- 140451660378848 -->\n<g id=\"node14\" class=\"node\">\n<title>140451660378848</title>\n<polygon fill=\"none\" stroke=\"black\" points=\"2559,-112.5 2559,-148.5 2756,-148.5 2756,-112.5 2559,-112.5\"/>\n<text text-anchor=\"middle\" x=\"2569\" y=\"-126.8\" font-family=\"Times,serif\" font-size=\"14.00\"> </text>\n<polyline fill=\"none\" stroke=\"black\" points=\"2579,-112.5 2579,-148.5 \"/>\n<text text-anchor=\"middle\" x=\"2624.5\" y=\"-126.8\" font-family=\"Times,serif\" font-size=\"14.00\">value: 0.1464</text>\n<polyline fill=\"none\" stroke=\"black\" points=\"2670,-112.5 2670,-148.5 \"/>\n<text text-anchor=\"middle\" x=\"2713\" y=\"-126.8\" font-family=\"Times,serif\" font-size=\"14.00\">grad: 4.8287</text>\n</g>\n<!-- 140451660378848&#45;&gt;140451665963008* -->\n<g id=\"edge11\" class=\"edge\">\n<title>140451660378848&#45;&gt;140451665963008*</title>\n<path fill=\"none\" stroke=\"black\" d=\"M2756.33,-144.61C2765.57,-145.94 2774.46,-147.22 2782.49,-148.38\"/>\n<polygon fill=\"black\" stroke=\"black\" points=\"2782.09,-151.86 2792.48,-149.82 2783.08,-144.93 2782.09,-151.86\"/>\n</g>\n<!-- 140451660378848**&#45;1 -->\n<g id=\"node15\" class=\"node\">\n<title>140451660378848**&#45;1</title>\n<ellipse fill=\"none\" stroke=\"black\" cx=\"2424.5\" cy=\"-126.5\" rx=\"27\" ry=\"18\"/>\n<text text-anchor=\"middle\" x=\"2424.5\" y=\"-122.8\" font-family=\"Times,serif\" font-size=\"14.00\">**&#45;1</text>\n</g>\n<!-- 140451660378848**&#45;1&#45;&gt;140451660378848 -->\n<g id=\"edge5\" class=\"edge\">\n<title>140451660378848**&#45;1&#45;&gt;140451660378848</title>\n<path fill=\"none\" stroke=\"black\" d=\"M2451.55,-126.95C2475.49,-127.37 2512.65,-128.01 2548.79,-128.63\"/>\n<polygon fill=\"black\" stroke=\"black\" points=\"2548.88,-132.14 2558.94,-128.81 2549,-125.14 2548.88,-132.14\"/>\n</g>\n<!-- 140451660375536 -->\n<g id=\"node16\" class=\"node\">\n<title>140451660375536</title>\n<polygon fill=\"none\" stroke=\"black\" points=\"2089,-108.5 2089,-144.5 2290,-144.5 2290,-108.5 2089,-108.5\"/>\n<text text-anchor=\"middle\" x=\"2099\" y=\"-122.8\" font-family=\"Times,serif\" font-size=\"14.00\"> </text>\n<polyline fill=\"none\" stroke=\"black\" points=\"2109,-108.5 2109,-144.5 \"/>\n<text text-anchor=\"middle\" x=\"2154.5\" y=\"-122.8\" font-family=\"Times,serif\" font-size=\"14.00\">value: 6.8287</text>\n<polyline fill=\"none\" stroke=\"black\" points=\"2200,-108.5 2200,-144.5 \"/>\n<text text-anchor=\"middle\" x=\"2245\" y=\"-122.8\" font-family=\"Times,serif\" font-size=\"14.00\">grad: &#45;0.1036</text>\n</g>\n<!-- 140451660375536&#45;&gt;140451660378848**&#45;1 -->\n<g id=\"edge22\" class=\"edge\">\n<title>140451660375536&#45;&gt;140451660378848**&#45;1</title>\n<path fill=\"none\" stroke=\"black\" d=\"M2290.33,-126.5C2324.63,-126.5 2360.91,-126.5 2386.92,-126.5\"/>\n<polygon fill=\"black\" stroke=\"black\" points=\"2387.05,-130 2397.05,-126.5 2387.05,-123 2387.05,-130\"/>\n</g>\n<!-- 140451660375536+&#45;&gt;140451660375536 -->\n<g id=\"edge6\" class=\"edge\">\n<title>140451660375536+&#45;&gt;140451660375536</title>\n<path fill=\"none\" stroke=\"black\" d=\"M2053.31,-126.5C2060.79,-126.5 2069.44,-126.5 2078.68,-126.5\"/>\n<polygon fill=\"black\" stroke=\"black\" points=\"2078.9,-130 2088.9,-126.5 2078.9,-123 2078.9,-130\"/>\n</g>\n<!-- 140451668458752 -->\n<g id=\"node18\" class=\"node\">\n<title>140451668458752</title>\n<polygon fill=\"none\" stroke=\"black\" points=\"700,-82.5 700,-118.5 987,-118.5 987,-82.5 700,-82.5\"/>\n<text text-anchor=\"middle\" x=\"753\" y=\"-96.8\" font-family=\"Times,serif\" font-size=\"14.00\">x1*w1 + x2*w2</text>\n<polyline fill=\"none\" stroke=\"black\" points=\"806,-82.5 806,-118.5 \"/>\n<text text-anchor=\"middle\" x=\"853.5\" y=\"-96.8\" font-family=\"Times,serif\" font-size=\"14.00\">value: &#45;6.0000</text>\n<polyline fill=\"none\" stroke=\"black\" points=\"901,-82.5 901,-118.5 \"/>\n<text text-anchor=\"middle\" x=\"944\" y=\"-96.8\" font-family=\"Times,serif\" font-size=\"14.00\">grad: 0.5000</text>\n</g>\n<!-- 140451668458752&#45;&gt;140451668448144+ -->\n<g id=\"edge28\" class=\"edge\">\n<title>140451668458752&#45;&gt;140451668448144+</title>\n<path fill=\"none\" stroke=\"black\" d=\"M980.9,-118.51C992.51,-120.04 1003.45,-121.49 1013.03,-122.75\"/>\n<polygon fill=\"black\" stroke=\"black\" points=\"1012.85,-126.26 1023.23,-124.1 1013.77,-119.32 1012.85,-126.26\"/>\n</g>\n<!-- 140451668458752+&#45;&gt;140451668458752 -->\n<g id=\"edge7\" class=\"edge\">\n<title>140451668458752+&#45;&gt;140451668458752</title>\n<path fill=\"none\" stroke=\"black\" d=\"M664.32,-100.5C671.76,-100.5 680.44,-100.5 689.88,-100.5\"/>\n<polygon fill=\"black\" stroke=\"black\" points=\"689.97,-104 699.97,-100.5 689.97,-97 689.97,-104\"/>\n</g>\n<!-- 140451662011200 -->\n<g id=\"node20\" class=\"node\">\n<title>140451662011200</title>\n<polygon fill=\"none\" stroke=\"black\" points=\"1764,-136.5 1764,-172.5 1961,-172.5 1961,-136.5 1764,-136.5\"/>\n<text text-anchor=\"middle\" x=\"1774\" y=\"-150.8\" font-family=\"Times,serif\" font-size=\"14.00\"> </text>\n<polyline fill=\"none\" stroke=\"black\" points=\"1784,-136.5 1784,-172.5 \"/>\n<text text-anchor=\"middle\" x=\"1829.5\" y=\"-150.8\" font-family=\"Times,serif\" font-size=\"14.00\">value: 5.8287</text>\n<polyline fill=\"none\" stroke=\"black\" points=\"1875,-136.5 1875,-172.5 \"/>\n<text text-anchor=\"middle\" x=\"1918\" y=\"-150.8\" font-family=\"Times,serif\" font-size=\"14.00\">grad: 0.0429</text>\n</g>\n<!-- 140451662011200&#45;&gt;140451660376640+ -->\n<g id=\"edge15\" class=\"edge\">\n<title>140451662011200&#45;&gt;140451660376640+</title>\n<path fill=\"none\" stroke=\"black\" d=\"M1961.17,-170.83C1971.28,-172.52 1981.01,-174.15 1989.71,-175.6\"/>\n<polygon fill=\"black\" stroke=\"black\" points=\"1989.31,-179.08 1999.75,-177.28 1990.46,-172.18 1989.31,-179.08\"/>\n</g>\n<!-- 140451662011200&#45;&gt;140451660375536+ -->\n<g id=\"edge26\" class=\"edge\">\n<title>140451662011200&#45;&gt;140451660375536+</title>\n<path fill=\"none\" stroke=\"black\" d=\"M1961.17,-137.57C1971.28,-135.81 1981.01,-134.13 1989.71,-132.62\"/>\n<polygon fill=\"black\" stroke=\"black\" points=\"1990.49,-136.03 1999.75,-130.88 1989.3,-129.14 1990.49,-136.03\"/>\n</g>\n<!-- 140451662011200exp&#45;&gt;140451662011200 -->\n<g id=\"edge8\" class=\"edge\">\n<title>140451662011200exp&#45;&gt;140451662011200</title>\n<path fill=\"none\" stroke=\"black\" d=\"M1726.31,-154.5C1734.35,-154.5 1743.75,-154.5 1753.76,-154.5\"/>\n<polygon fill=\"black\" stroke=\"black\" points=\"1753.97,-158 1763.97,-154.5 1753.97,-151 1753.97,-158\"/>\n</g>\n<!-- 140451668456304 -->\n<g id=\"node22\" class=\"node\">\n<title>140451668456304</title>\n<polygon fill=\"none\" stroke=\"black\" points=\"1.5,-0.5 1.5,-36.5 212.5,-36.5 212.5,-0.5 1.5,-0.5\"/>\n<text text-anchor=\"middle\" x=\"16.5\" y=\"-14.8\" font-family=\"Times,serif\" font-size=\"14.00\">x1</text>\n<polyline fill=\"none\" stroke=\"black\" points=\"31.5,-0.5 31.5,-36.5 \"/>\n<text text-anchor=\"middle\" x=\"77\" y=\"-14.8\" font-family=\"Times,serif\" font-size=\"14.00\">value: 2.0000</text>\n<polyline fill=\"none\" stroke=\"black\" points=\"122.5,-0.5 122.5,-36.5 \"/>\n<text text-anchor=\"middle\" x=\"167.5\" y=\"-14.8\" font-family=\"Times,serif\" font-size=\"14.00\">grad: &#45;1.4999</text>\n</g>\n<!-- 140451668456304&#45;&gt;140451668459424* -->\n<g id=\"edge13\" class=\"edge\">\n<title>140451668456304&#45;&gt;140451668459424*</title>\n<path fill=\"none\" stroke=\"black\" d=\"M185.47,-36.55C195.15,-39.3 204.86,-42.3 214,-45.5 224.56,-49.2 235.79,-53.99 245.76,-58.57\"/>\n<polygon fill=\"black\" stroke=\"black\" points=\"244.32,-61.76 254.86,-62.84 247.29,-55.42 244.32,-61.76\"/>\n</g>\n<!-- 140451668448144 -->\n<g id=\"node23\" class=\"node\">\n<title>140451668448144</title>\n<polygon fill=\"none\" stroke=\"black\" points=\"1113,-109.5 1113,-145.5 1313,-145.5 1313,-109.5 1113,-109.5\"/>\n<text text-anchor=\"middle\" x=\"1124.5\" y=\"-123.8\" font-family=\"Times,serif\" font-size=\"14.00\">n</text>\n<polyline fill=\"none\" stroke=\"black\" points=\"1136,-109.5 1136,-145.5 \"/>\n<text text-anchor=\"middle\" x=\"1181.5\" y=\"-123.8\" font-family=\"Times,serif\" font-size=\"14.00\">value: 0.8814</text>\n<polyline fill=\"none\" stroke=\"black\" points=\"1227,-109.5 1227,-145.5 \"/>\n<text text-anchor=\"middle\" x=\"1270\" y=\"-123.8\" font-family=\"Times,serif\" font-size=\"14.00\">grad: 0.5000</text>\n</g>\n<!-- 140451668448144&#45;&gt;140451668453952* -->\n<g id=\"edge19\" class=\"edge\">\n<title>140451668448144&#45;&gt;140451668453952*</title>\n<path fill=\"none\" stroke=\"black\" d=\"M1313.21,-144.14C1322.57,-145.71 1331.57,-147.22 1339.67,-148.58\"/>\n<polygon fill=\"black\" stroke=\"black\" points=\"1339.31,-152.06 1349.76,-150.27 1340.47,-145.16 1339.31,-152.06\"/>\n</g>\n<!-- 140451668448144+&#45;&gt;140451668448144 -->\n<g id=\"edge9\" class=\"edge\">\n<title>140451668448144+&#45;&gt;140451668448144</title>\n<path fill=\"none\" stroke=\"black\" d=\"M1077.23,-127.5C1084.69,-127.5 1093.31,-127.5 1102.52,-127.5\"/>\n<polygon fill=\"black\" stroke=\"black\" points=\"1102.71,-131 1112.71,-127.5 1102.71,-124 1102.71,-131\"/>\n</g>\n<!-- 140451668459424 -->\n<g id=\"node25\" class=\"node\">\n<title>140451668459424</title>\n<polygon fill=\"none\" stroke=\"black\" points=\"340,-55.5 340,-91.5 574,-91.5 574,-55.5 340,-55.5\"/>\n<text text-anchor=\"middle\" x=\"366.5\" y=\"-69.8\" font-family=\"Times,serif\" font-size=\"14.00\">x1*w1</text>\n<polyline fill=\"none\" stroke=\"black\" points=\"393,-55.5 393,-91.5 \"/>\n<text text-anchor=\"middle\" x=\"440.5\" y=\"-69.8\" font-family=\"Times,serif\" font-size=\"14.00\">value: &#45;6.0000</text>\n<polyline fill=\"none\" stroke=\"black\" points=\"488,-55.5 488,-91.5 \"/>\n<text text-anchor=\"middle\" x=\"531\" y=\"-69.8\" font-family=\"Times,serif\" font-size=\"14.00\">grad: 0.5000</text>\n</g>\n<!-- 140451668459424&#45;&gt;140451668458752+ -->\n<g id=\"edge18\" class=\"edge\">\n<title>140451668459424&#45;&gt;140451668458752+</title>\n<path fill=\"none\" stroke=\"black\" d=\"M574.24,-91.13C583.6,-92.55 592.51,-93.9 600.51,-95.12\"/>\n<polygon fill=\"black\" stroke=\"black\" points=\"600.04,-98.59 610.45,-96.62 601.09,-91.66 600.04,-98.59\"/>\n</g>\n<!-- 140451668459424*&#45;&gt;140451668459424 -->\n<g id=\"edge10\" class=\"edge\">\n<title>140451668459424*&#45;&gt;140451668459424</title>\n<path fill=\"none\" stroke=\"black\" d=\"M304.26,-73.5C311.65,-73.5 320.21,-73.5 329.43,-73.5\"/>\n<polygon fill=\"black\" stroke=\"black\" points=\"329.66,-77 339.66,-73.5 329.66,-70 329.66,-77\"/>\n</g>\n<!-- 140451668453328 -->\n<g id=\"node27\" class=\"node\">\n<title>140451668453328</title>\n<polygon fill=\"none\" stroke=\"black\" points=\"3.5,-165.5 3.5,-201.5 210.5,-201.5 210.5,-165.5 3.5,-165.5\"/>\n<text text-anchor=\"middle\" x=\"18.5\" y=\"-179.8\" font-family=\"Times,serif\" font-size=\"14.00\">x2</text>\n<polyline fill=\"none\" stroke=\"black\" points=\"33.5,-165.5 33.5,-201.5 \"/>\n<text text-anchor=\"middle\" x=\"79\" y=\"-179.8\" font-family=\"Times,serif\" font-size=\"14.00\">value: 0.0000</text>\n<polyline fill=\"none\" stroke=\"black\" points=\"124.5,-165.5 124.5,-201.5 \"/>\n<text text-anchor=\"middle\" x=\"167.5\" y=\"-179.8\" font-family=\"Times,serif\" font-size=\"14.00\">grad: 0.5000</text>\n</g>\n<!-- 140451668453328&#45;&gt;140451668450928* -->\n<g id=\"edge24\" class=\"edge\">\n<title>140451668453328&#45;&gt;140451668450928*</title>\n<path fill=\"none\" stroke=\"black\" d=\"M185.47,-165.45C195.15,-162.7 204.86,-159.7 214,-156.5 224.56,-152.8 235.79,-148.01 245.76,-143.43\"/>\n<polygon fill=\"black\" stroke=\"black\" points=\"247.29,-146.58 254.86,-139.16 244.32,-140.24 247.29,-146.58\"/>\n</g>\n<!-- 140451668448240 -->\n<g id=\"node28\" class=\"node\">\n<title>140451668448240</title>\n<polygon fill=\"none\" stroke=\"black\" points=\"2,-110.5 2,-146.5 212,-146.5 212,-110.5 2,-110.5\"/>\n<text text-anchor=\"middle\" x=\"18.5\" y=\"-124.8\" font-family=\"Times,serif\" font-size=\"14.00\">w2</text>\n<polyline fill=\"none\" stroke=\"black\" points=\"35,-110.5 35,-146.5 \"/>\n<text text-anchor=\"middle\" x=\"80.5\" y=\"-124.8\" font-family=\"Times,serif\" font-size=\"14.00\">value: 1.0000</text>\n<polyline fill=\"none\" stroke=\"black\" points=\"126,-110.5 126,-146.5 \"/>\n<text text-anchor=\"middle\" x=\"169\" y=\"-124.8\" font-family=\"Times,serif\" font-size=\"14.00\">grad: 0.0000</text>\n</g>\n<!-- 140451668448240&#45;&gt;140451668450928* -->\n<g id=\"edge25\" class=\"edge\">\n<title>140451668448240&#45;&gt;140451668450928*</title>\n<path fill=\"none\" stroke=\"black\" d=\"M212.01,-128.5C221.82,-128.5 231.25,-128.5 239.72,-128.5\"/>\n<polygon fill=\"black\" stroke=\"black\" points=\"239.88,-132 249.88,-128.5 239.88,-125 239.88,-132\"/>\n</g>\n</g>\n</svg>\n",
            "text/plain": [
              "<graphviz.graphs.Digraph at 0x7fbd73ce6c50>"
            ]
          },
          "metadata": {},
          "execution_count": 118
        }
      ]
    },
    {
      "cell_type": "code",
      "source": [
        "import random\n",
        "class Neuron:\n",
        "\n",
        "  def __init__(self, nin):\n",
        "    self.w = [Value(random.uniform(-1, 1)) for _ in range(nin)]\n",
        "    self.b = Value(random.uniform(-1, 1))\n",
        "\n",
        "  # __call__ will be called when instance is called liek function ie. n = Neuron(2); n(2) so this n(2) will call __call__(2)\n",
        "  def __call__(self, x):\n",
        "    # w * x + b\n",
        "    act = sum((wi * xi for wi, xi in zip(self.w, x)), self.b)\n",
        "    out = act.tanh()\n",
        "    return out\n",
        "\n",
        "  def parameters(self):\n",
        "    return self.w + [self.b]\n",
        "\n",
        "class Layer:\n",
        "\n",
        "  def __init__(self, nin, nout):\n",
        "    self.neurons = [Neuron(nin) for _ in range(nout)]\n",
        "\n",
        "  def __call__(self, x):\n",
        "    outs = [n(x) for n in self.neurons]\n",
        "    return outs[0] if len(outs) == 1 else outs\n",
        "\n",
        "  def parameters(self):\n",
        "    return [p for neuron in self.neurons for p in neuron.parameters()]\n",
        "\n",
        "\n",
        "class MLP:\n",
        "\n",
        "  def __init__(self, nin, nouts):\n",
        "    sz = [nin] + nouts\n",
        "    self.layers = [Layer(sz[i], sz[i+1]) for i in range(len(nouts))]\n",
        "\n",
        "  def __call__(self, x):\n",
        "    for layer in self.layers:\n",
        "      x = layer(x)\n",
        "    return x\n",
        "\n",
        "  def parameters(self):\n",
        "    return [p for layer in self.layers for p in layer.parameters()]\n",
        "\n"
      ],
      "metadata": {
        "id": "x_zvjvVM3HcR"
      },
      "execution_count": null,
      "outputs": []
    },
    {
      "cell_type": "code",
      "source": [
        "x = [2.0, 3.0, -1.0]\n",
        "n = MLP(3, [4, 4, 1])\n",
        "n(x)\n",
        "\n",
        "xs = [\n",
        "    [2.0, 3.0, -1.0],\n",
        "    [3.0, -1.0, 0.5],\n",
        "    [0.5, 1.0, 1.0],\n",
        "    [1.0, 1.0, -1.0]\n",
        "]\n",
        "\n",
        "ys = [1.0, -1.0, -1.0, 1.0] # desired targets\n",
        "\n",
        "\n"
      ],
      "metadata": {
        "id": "G3kAI6Db3bgU"
      },
      "execution_count": null,
      "outputs": []
    },
    {
      "cell_type": "code",
      "source": [
        "for k in range(20):\n",
        "\n",
        "  # forward pass\n",
        "  ypred = [n(x) for x in xs]\n",
        "  loss = sum([(yp - yt)**2 for yt, yp in zip(ys, ypred)])\n",
        "\n",
        "  # zero gradients\n",
        "  for p in n.parameters():\n",
        "    p.grad = 0.0\n",
        "\n",
        "  # backward pass\n",
        "  loss.backward()\n",
        "\n",
        "  # update\n",
        "  lr = 0.05\n",
        "  for p in n.parameters():\n",
        "    p.data += -lr * p.grad\n",
        "\n",
        "  print(k, loss.data)"
      ],
      "metadata": {
        "colab": {
          "base_uri": "https://localhost:8080/"
        },
        "id": "b3wwbQEZCTUO",
        "outputId": "5e1d1a39-824d-4c04-be03-0758ef4a8be9"
      },
      "execution_count": null,
      "outputs": [
        {
          "output_type": "stream",
          "name": "stdout",
          "text": [
            "0 0.02717937373184981\n",
            "1 0.02646625116354238\n",
            "2 0.02578818117266233\n",
            "3 0.02514266113222586\n",
            "4 0.024527420821558735\n",
            "5 0.023940396044077734\n",
            "6 0.02337970576334536\n",
            "7 0.02284363222118455\n",
            "8 0.022330603593173393\n",
            "9 0.02183917881113663\n",
            "10 0.02136803424285185\n",
            "11 0.02091595196884747\n",
            "12 0.020481809437035817\n",
            "13 0.020064570309701175\n",
            "14 0.01966327634539037\n",
            "15 0.019277040181597527\n",
            "16 0.01890503890365588\n",
            "17 0.0185465083016235\n",
            "18 0.018200737730739592\n",
            "19 0.017867065502672568\n"
          ]
        }
      ]
    },
    {
      "cell_type": "code",
      "source": [
        "ypred"
      ],
      "metadata": {
        "colab": {
          "base_uri": "https://localhost:8080/"
        },
        "id": "Eks3kI4MC-C5",
        "outputId": "0190c03c-3bb5-4d01-d011-9d563d4b4df7"
      },
      "execution_count": null,
      "outputs": [
        {
          "output_type": "execute_result",
          "data": {
            "text/plain": [
              "[Value(data=0.8760689851134807),\n",
              " Value(data=-0.842421431890813),\n",
              " Value(data=-0.8914146865994031),\n",
              " Value(data=0.9072037050661966)]"
            ]
          },
          "metadata": {},
          "execution_count": 122
        }
      ]
    },
    {
      "cell_type": "markdown",
      "source": [],
      "metadata": {
        "id": "ZQUSsgi4CTIC"
      }
    }
  ]
}